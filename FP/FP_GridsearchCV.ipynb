{
 "cells": [
  {
   "cell_type": "code",
   "execution_count": 1,
   "metadata": {
    "collapsed": true
   },
   "outputs": [],
   "source": [
    "import numpy as np\n",
    "import pandas as pd\n",
    "import re\n",
    "\n",
    "from textblob import TextBlob\n",
    "\n",
    "from sklearn.linear_model import LogisticRegression\n",
    "from sklearn.svm import SVC\n",
    "from sklearn.naive_bayes import GaussianNB\n",
    "from sklearn.ensemble import RandomForestClassifier\n",
    "from sklearn.model_selection import GridSearchCV\n",
    "from sklearn.model_selection import cross_val_score"
   ]
  },
  {
   "cell_type": "code",
   "execution_count": 68,
   "metadata": {
    "collapsed": true
   },
   "outputs": [],
   "source": [
    "filename = \"SS-Twitter\"\n",
    "# path_to_clean = \"C:/xampp/htdocs/Data-Mining/FP/clean/\"\n",
    "# path_to_fitur = \"C:/xampp/htdocs/Data-Mining/FP/fitur/\"\n",
    "path_to_clean = \"F:/178/Data-Mining/FP/clean/\"\n",
    "path_to_fitur = \"F:/178/Data-Mining/FP/fitur/\"\n",
    "\n",
    "path_to_baseline = path_to_clean + filename +\"_BASELINE.csv\"\n",
    "path_to_experiment = path_to_clean + filename +\"_EXPERIMENT.csv\"\n",
    "\n",
    "# classifiers = [lr,rf,svm,nb]\n",
    "# classifiers_name = [\"Logistic Regression\",\"Random Forest\",\"SVM\",\"Naive Bayes\"]\n"
   ]
  },
  {
   "cell_type": "code",
   "execution_count": 47,
   "metadata": {},
   "outputs": [],
   "source": [
    "base_ss = pd.read_csv(path_to_baseline)\n",
    "expe_ss = pd.read_csv(path_to_experiment)"
   ]
  },
  {
   "cell_type": "code",
   "execution_count": 48,
   "metadata": {
    "collapsed": true
   },
   "outputs": [],
   "source": [
    "clean = base_ss['Clean'].to_list()\n",
    "true = base_ss['class'].values\n",
    "\n",
    "no_url = expe_ss['NO URL'].to_list()\n",
    "no_stopword = expe_ss['NO STOPWORD'].to_list()\n",
    "no_number = expe_ss['NO NUMBER'].to_list()\n",
    "no_repeat = expe_ss['NO REPEAT'].to_list()\n",
    "no_acronym = expe_ss['NO ACRONYM'].to_list()\n",
    "no_negation = expe_ss['NO NEGATION'].to_list()\n",
    "our = expe_ss['OUR'].to_list()"
   ]
  },
  {
   "cell_type": "code",
   "execution_count": 49,
   "metadata": {
    "collapsed": true
   },
   "outputs": [],
   "source": [
    "def get_pred(clean):\n",
    "    pred = list()\n",
    "    result = [TextBlob(re.sub(\"[.]\", \"\", str(i))).sentiment.polarity for i in clean]\n",
    "    for n in result:\n",
    "        if n < 0:\n",
    "            pred.append(0)\n",
    "        elif n > 0:\n",
    "            pred.append(4)\n",
    "        else:\n",
    "            pred.append(2)\n",
    "    return result,pred"
   ]
  },
  {
   "cell_type": "code",
   "execution_count": 50,
   "metadata": {
    "collapsed": true
   },
   "outputs": [],
   "source": [
    "result,pred = get_pred(clean)"
   ]
  },
  {
   "cell_type": "code",
   "execution_count": 51,
   "metadata": {
    "collapsed": true
   },
   "outputs": [],
   "source": [
    "result = np.array(result).reshape(-1, 1)"
   ]
  },
  {
   "cell_type": "code",
   "execution_count": 52,
   "metadata": {
    "collapsed": true
   },
   "outputs": [],
   "source": [
    "# svm = SVC()\n",
    "# parameters = {'kernel':('linear', 'rbf','poly'), 'C':[1, 5, 10, 50], 'gamma' : [0.5, 1, 'auto']}\n",
    "\n",
    "# clf = GridSearchCV(svm, parameters, cv=10)\n",
    "# clf.fit(result, true)"
   ]
  },
  {
   "cell_type": "code",
   "execution_count": 53,
   "metadata": {
    "collapsed": true
   },
   "outputs": [],
   "source": [
    "# clf.best_params_"
   ]
  },
  {
   "cell_type": "code",
   "execution_count": 54,
   "metadata": {
    "collapsed": true
   },
   "outputs": [],
   "source": [
    "# clf.best_score_"
   ]
  },
  {
   "cell_type": "code",
   "execution_count": 55,
   "metadata": {
    "collapsed": true
   },
   "outputs": [],
   "source": [
    "# svm = SVC(C=1, gamma=0.5,kernel='rbf')"
   ]
  },
  {
   "cell_type": "code",
   "execution_count": 56,
   "metadata": {
    "collapsed": true
   },
   "outputs": [],
   "source": [
    "# scores = cross_val_score(svm,result,true,cv=10)\n",
    "# print(\"Accuracy: %0.2f (+/- %0.2f)\" % (scores.mean(), scores.std() * 2))"
   ]
  },
  {
   "cell_type": "code",
   "execution_count": 57,
   "metadata": {
    "collapsed": true
   },
   "outputs": [],
   "source": [
    "# lr = LogisticRegression()\n",
    "# parameters = {\"C\":np.logspace(-3,3,7),'solver':('newton-cg', 'lbfgs', 'saga'), 'max_iter':[100,500,1000,5000], 'multi_class':('ovr', 'multinomial', 'auto')}\n",
    "\n",
    "# clf = GridSearchCV(lr, parameters, cv=10)\n",
    "# clf.fit(result, true)"
   ]
  },
  {
   "cell_type": "code",
   "execution_count": 58,
   "metadata": {
    "collapsed": true
   },
   "outputs": [],
   "source": [
    "# # clf.get_params()\n",
    "# clf.best_params_"
   ]
  },
  {
   "cell_type": "code",
   "execution_count": 59,
   "metadata": {
    "collapsed": true
   },
   "outputs": [],
   "source": [
    "# lr = LogisticRegression(C=10,max_iter=100,multi_class='ovr',solver='newton-cg')"
   ]
  },
  {
   "cell_type": "code",
   "execution_count": 60,
   "metadata": {
    "collapsed": true
   },
   "outputs": [],
   "source": [
    "# scores = cross_val_score(lr,result,true,cv=10)\n",
    "# print(\"Accuracy: %0.2f (+/- %0.2f)\" % (scores.mean(), scores.std() * 2))"
   ]
  },
  {
   "cell_type": "code",
   "execution_count": 61,
   "metadata": {},
   "outputs": [],
   "source": [
    "# rf = RandomForestClassifier()\n",
    "\n",
    "# parameters = {'n_estimators':[4000,5000], 'max_depth':[30, 50]}\n",
    "\n",
    "# clf = GridSearchCV(rf, parameters, cv=10)\n",
    "# clf.fit(result, true)"
   ]
  },
  {
   "cell_type": "code",
   "execution_count": 62,
   "metadata": {},
   "outputs": [],
   "source": [
    "# # clf.get_params()\n",
    "# clf.best_params_\n",
    "# # clf.best_score_"
   ]
  },
  {
   "cell_type": "code",
   "execution_count": 63,
   "metadata": {},
   "outputs": [],
   "source": [
    "# rf = RandomForestClassifier(max_depth= 30, n_estimators= 4000)"
   ]
  },
  {
   "cell_type": "code",
   "execution_count": 64,
   "metadata": {},
   "outputs": [],
   "source": [
    "# scores = cross_val_score(rf,result,true,cv=10)\n",
    "# print(\"Accuracy: %0.2f (+/- %0.2f)\" % (scores.mean(), scores.std() * 2))"
   ]
  },
  {
   "cell_type": "code",
   "execution_count": 65,
   "metadata": {},
   "outputs": [
    {
     "data": {
      "text/plain": [
       "GridSearchCV(cv=10, error_score='raise-deprecating',\n",
       "       estimator=GaussianNB(priors=None, var_smoothing=1e-09),\n",
       "       fit_params=None, iid='warn', n_jobs=None,\n",
       "       param_grid={'var_smoothing': [1e-09, 1e-10, 1e-08]},\n",
       "       pre_dispatch='2*n_jobs', refit=True, return_train_score='warn',\n",
       "       scoring=None, verbose=0)"
      ]
     },
     "execution_count": 65,
     "metadata": {},
     "output_type": "execute_result"
    }
   ],
   "source": [
    "nb = GaussianNB()\n",
    "\n",
    "parameters = {'var_smoothing':[1e-9,1e-10,1e-8]}\n",
    "\n",
    "clf = GridSearchCV(nb, parameters, cv=10)\n",
    "clf.fit(result, true)"
   ]
  },
  {
   "cell_type": "code",
   "execution_count": 66,
   "metadata": {},
   "outputs": [
    {
     "data": {
      "text/plain": [
       "{'var_smoothing': 1e-09}"
      ]
     },
     "execution_count": 66,
     "metadata": {},
     "output_type": "execute_result"
    }
   ],
   "source": [
    "clf.best_params_"
   ]
  },
  {
   "cell_type": "code",
   "execution_count": 67,
   "metadata": {},
   "outputs": [
    {
     "name": "stdout",
     "output_type": "stream",
     "text": [
      "Accuracy: 0.65 (+/- 0.12)\n"
     ]
    }
   ],
   "source": [
    "scores = cross_val_score(nb,result,true,cv=10)\n",
    "print(\"Accuracy: %0.2f (+/- %0.2f)\" % (scores.mean(), scores.std() * 2))"
   ]
  }
 ],
 "metadata": {
  "kernelspec": {
   "display_name": "Python 3",
   "language": "python",
   "name": "python3"
  },
  "language_info": {
   "codemirror_mode": {
    "name": "ipython",
    "version": 3
   },
   "file_extension": ".py",
   "mimetype": "text/x-python",
   "name": "python",
   "nbconvert_exporter": "python",
   "pygments_lexer": "ipython3",
   "version": "3.6.2"
  }
 },
 "nbformat": 4,
 "nbformat_minor": 2
}
